{
 "cells": [
  {
   "cell_type": "markdown",
   "id": "dfa6d1a9",
   "metadata": {},
   "source": [
    "# SWE Changes in Anchorage, Alaska"
   ]
  },
  {
   "cell_type": "code",
   "execution_count": 1,
   "id": "f85a57e3",
   "metadata": {},
   "outputs": [],
   "source": [
    "import pandas as pd\n",
    "import numpy as np\n",
    "from matplotlib import pyplot as plt"
   ]
  },
  {
   "cell_type": "markdown",
   "id": "63ff1629",
   "metadata": {},
   "source": [
    "### Introduction \n",
    "Snow packs act as frozen water towers, allowing the melt to run off. Storage and snow melt is an important part of the water budget and a critical resource for some areas. Knowing when to expect peak snow melt would be important as climate change effects are deepened making water resources sparse in some areas and overly abundant in others. "
   ]
  },
  {
   "cell_type": "markdown",
   "id": "4544cd5e",
   "metadata": {},
   "source": [
    "### Specific research question: \n",
    "How has the SWE peak changed in timing in Anchorage, Alaska? "
   ]
  },
  {
   "cell_type": "markdown",
   "id": "69574817",
   "metadata": {},
   "source": [
    "### Site Description\n",
    "(INSERT MAP) \n",
    "\n",
    "Anchorage is a city in the south-central region of Alaska, located on the coast of the Cook Inlet. It is the largest city in Alaska with a population of around 288,000 people in the metropolitan area. Anchorage serves as a hub for transportation, commerce, and culture in the state, and is surrounded by beautiful natural landscapes. \n",
    "\n",
    "Anchorage has a subarctic climate, with long, cold winters and mild summers. The city experiences heavy snowfall during the winter months. "
   ]
  },
  {
   "cell_type": "markdown",
   "id": "e47e643b",
   "metadata": {},
   "source": [
    "### Data Description\n",
    "The data to be utilized is from the USDA. This dataset has a period of record of daily values from 2005-2023, the entirety of which will be analyzed. This data comes from a single gauge (#SNOTEL 1070) located in Anchorage Hillside, Alaska. This dataset includes year and snow water equivalent in inches measured daily instantesouly at the beginning of the day. \n",
    "\n",
    "URL: https://wcc.sc.egov.usda.gov/reportGenerator/view_csv/customGroupByMonthReport/daily/1070:AK:SNTL%7Cid=%22%22%7Cname/POR_BEGIN,POR_END/WTEQ::value "
   ]
  },
  {
   "cell_type": "code",
   "execution_count": 2,
   "id": "5796ff82",
   "metadata": {},
   "outputs": [
    {
     "name": "stdout",
     "output_type": "stream",
     "text": [
      "     Water Year   Day  Oct  Nov  Dec  Jan   Feb   Mar  Apr  May  Jun  Jul  \\\n",
      "1        2005.0   1.0  NaN  NaN  NaN  NaN   NaN   NaN  NaN  NaN  NaN  0.0   \n",
      "2        2005.0   2.0  NaN  NaN  NaN  NaN   NaN   NaN  NaN  NaN  NaN  0.0   \n",
      "3        2005.0   3.0  NaN  NaN  NaN  NaN   NaN   NaN  NaN  NaN  NaN  0.0   \n",
      "4        2005.0   4.0  NaN  NaN  NaN  NaN   NaN   NaN  NaN  NaN  NaN  0.0   \n",
      "5        2005.0   5.0  NaN  NaN  NaN  NaN   NaN   NaN  NaN  NaN  NaN  0.0   \n",
      "..          ...   ...  ...  ...  ...  ...   ...   ...  ...  ...  ...  ...   \n",
      "585      2023.0  27.0  0.4  2.8  7.0  7.8  10.4  11.3  NaN  NaN  NaN  NaN   \n",
      "586      2023.0  28.0  0.4  2.8  7.0  7.8  10.4   NaN  NaN  NaN  NaN  NaN   \n",
      "587      2023.0  29.0  0.4  2.8  7.1  7.8   NaN   NaN  NaN  NaN  NaN  NaN   \n",
      "588      2023.0  30.0  0.4  2.8  7.1  7.9   NaN   NaN  NaN  NaN  NaN  NaN   \n",
      "589      2023.0  31.0  0.4  NaN  7.1  7.9   NaN   NaN  NaN  NaN  NaN  NaN   \n",
      "\n",
      "     Aug  Sep  \n",
      "1    0.0  0.0  \n",
      "2    0.0  0.0  \n",
      "3    0.0  0.0  \n",
      "4    0.0  0.0  \n",
      "5    0.0  0.0  \n",
      "..   ...  ...  \n",
      "585  NaN  NaN  \n",
      "586  NaN  NaN  \n",
      "587  NaN  NaN  \n",
      "588  NaN  NaN  \n",
      "589  NaN  NaN  \n",
      "\n",
      "[589 rows x 14 columns]\n"
     ]
    }
   ],
   "source": [
    "#load and provide initial plot of raw data \n",
    "infile_name='WTEQ__value.txt'\n",
    "import pandas as pd\n",
    "fig_title='SWE'\n",
    "data = pd.read_csv(infile_name, comment=\"#\", delimiter =\",\", na_values=[\"Ice\", \"Bkw\"], dtype={\"Water Year\": float})\n",
    "monthlist=['Jan','Feb','Mar','Apr','May','Jun','Jul','Aug','Sep','Oct','Nov','Dec']\n",
    "data=data[1:]\n",
    "data[['Water Year', 'Day']] = data[['Water Year', 'Day']].apply(pd.to_numeric, errors='coerce')\n",
    "\n",
    "print(data)\n"
   ]
  },
  {
   "cell_type": "code",
   "execution_count": 3,
   "id": "16fd1308",
   "metadata": {},
   "outputs": [
    {
     "data": {
      "text/html": [
       "<div>\n",
       "<style scoped>\n",
       "    .dataframe tbody tr th:only-of-type {\n",
       "        vertical-align: middle;\n",
       "    }\n",
       "\n",
       "    .dataframe tbody tr th {\n",
       "        vertical-align: top;\n",
       "    }\n",
       "\n",
       "    .dataframe thead th {\n",
       "        text-align: right;\n",
       "    }\n",
       "</style>\n",
       "<table border=\"1\" class=\"dataframe\">\n",
       "  <thead>\n",
       "    <tr style=\"text-align: right;\">\n",
       "      <th></th>\n",
       "      <th>Water Year</th>\n",
       "      <th>day</th>\n",
       "      <th>month</th>\n",
       "      <th>Snow</th>\n",
       "    </tr>\n",
       "  </thead>\n",
       "  <tbody>\n",
       "    <tr>\n",
       "      <th>1</th>\n",
       "      <td>2005.0</td>\n",
       "      <td>1.0</td>\n",
       "      <td>1</td>\n",
       "      <td>5.45</td>\n",
       "    </tr>\n",
       "    <tr>\n",
       "      <th>2</th>\n",
       "      <td>2005.0</td>\n",
       "      <td>2.0</td>\n",
       "      <td>1</td>\n",
       "      <td>5.45</td>\n",
       "    </tr>\n",
       "    <tr>\n",
       "      <th>3</th>\n",
       "      <td>2005.0</td>\n",
       "      <td>3.0</td>\n",
       "      <td>1</td>\n",
       "      <td>5.45</td>\n",
       "    </tr>\n",
       "    <tr>\n",
       "      <th>4</th>\n",
       "      <td>2005.0</td>\n",
       "      <td>4.0</td>\n",
       "      <td>1</td>\n",
       "      <td>5.45</td>\n",
       "    </tr>\n",
       "    <tr>\n",
       "      <th>5</th>\n",
       "      <td>2005.0</td>\n",
       "      <td>5.0</td>\n",
       "      <td>1</td>\n",
       "      <td>5.45</td>\n",
       "    </tr>\n",
       "    <tr>\n",
       "      <th>...</th>\n",
       "      <td>...</td>\n",
       "      <td>...</td>\n",
       "      <td>...</td>\n",
       "      <td>...</td>\n",
       "    </tr>\n",
       "    <tr>\n",
       "      <th>585</th>\n",
       "      <td>2023.0</td>\n",
       "      <td>27.0</td>\n",
       "      <td>12</td>\n",
       "      <td>7.0</td>\n",
       "    </tr>\n",
       "    <tr>\n",
       "      <th>586</th>\n",
       "      <td>2023.0</td>\n",
       "      <td>28.0</td>\n",
       "      <td>12</td>\n",
       "      <td>7.0</td>\n",
       "    </tr>\n",
       "    <tr>\n",
       "      <th>587</th>\n",
       "      <td>2023.0</td>\n",
       "      <td>29.0</td>\n",
       "      <td>12</td>\n",
       "      <td>7.1</td>\n",
       "    </tr>\n",
       "    <tr>\n",
       "      <th>588</th>\n",
       "      <td>2023.0</td>\n",
       "      <td>30.0</td>\n",
       "      <td>12</td>\n",
       "      <td>7.1</td>\n",
       "    </tr>\n",
       "    <tr>\n",
       "      <th>589</th>\n",
       "      <td>2023.0</td>\n",
       "      <td>31.0</td>\n",
       "      <td>12</td>\n",
       "      <td>7.1</td>\n",
       "    </tr>\n",
       "  </tbody>\n",
       "</table>\n",
       "<p>7068 rows × 4 columns</p>\n",
       "</div>"
      ],
      "text/plain": [
       "     Water Year   day  month  Snow\n",
       "1        2005.0   1.0      1  5.45\n",
       "2        2005.0   2.0      1  5.45\n",
       "3        2005.0   3.0      1  5.45\n",
       "4        2005.0   4.0      1  5.45\n",
       "5        2005.0   5.0      1  5.45\n",
       "..          ...   ...    ...   ...\n",
       "585      2023.0  27.0     12   7.0\n",
       "586      2023.0  28.0     12   7.0\n",
       "587      2023.0  29.0     12   7.1\n",
       "588      2023.0  30.0     12   7.1\n",
       "589      2023.0  31.0     12   7.1\n",
       "\n",
       "[7068 rows x 4 columns]"
      ]
     },
     "execution_count": 3,
     "metadata": {},
     "output_type": "execute_result"
    }
   ],
   "source": [
    "# Fill missing values with the median of the column\n",
    "data.fillna(data.median(), inplace=True)\n",
    "\n",
    "# Drop rows with missing values in 'Water Year' column\n",
    "data.dropna(subset=['Water Year'], inplace=True)\n",
    "\n",
    "# Drop rows with missing values in 'Day' column\n",
    "data.dropna(subset=['Day'], inplace=True)\n",
    "\n",
    "# Initialize an empty DataFrame\n",
    "bigdata = pd.DataFrame()\n",
    "\n",
    "for i, month in enumerate(monthlist):\n",
    "    datamonth=data[['Water Year','Day',month]].copy()\n",
    "    datamonth['Month']=i+1\n",
    "    datamonth['Snow']=datamonth[month]\n",
    "    datamonth.drop(columns={month},inplace=True)\n",
    "    try: \n",
    "        bigdata=pd.concat([bigdata,datamonth])\n",
    "    except: \n",
    "        bigdata=datamonth\n",
    "bigdata.rename(columns={'Day':'day','Month':'month'},inplace=True)        \n",
    "\n",
    "bigdata"
   ]
  },
  {
   "cell_type": "code",
   "execution_count": null,
   "id": "5596d427",
   "metadata": {},
   "outputs": [],
   "source": []
  },
  {
   "cell_type": "code",
   "execution_count": 4,
   "id": "41e2c57c",
   "metadata": {},
   "outputs": [
    {
     "data": {
      "text/plain": [
       "Water Year           float64\n",
       "day                  float64\n",
       "month                  int64\n",
       "Snow                  object\n",
       "year                   int64\n",
       "date          datetime64[ns]\n",
       "dtype: object"
      ]
     },
     "execution_count": 4,
     "metadata": {},
     "output_type": "execute_result"
    }
   ],
   "source": [
    "#Create a calander year column\n",
    "# Create a new column \"wateryear\" in the dataframe\n",
    "bigdata['year'] = np.where(bigdata['month'] >= 10, bigdata['Water Year'] - 1, bigdata['Water Year'])\n",
    "\n",
    "bigdata['year']=bigdata['year'].astype('int64')\n",
    "\n",
    "# Create a datetime column\n",
    "bigdata['date'] = pd.to_datetime(bigdata[['year', 'month', 'day']], errors='coerce')\n",
    "\n",
    "bigdata.dtypes"
   ]
  },
  {
   "cell_type": "code",
   "execution_count": 5,
   "id": "0aceca69",
   "metadata": {},
   "outputs": [
    {
     "name": "stdout",
     "output_type": "stream",
     "text": [
      "            Snow\n",
      "date            \n",
      "2005-01-01  5.45\n",
      "2005-01-02  5.45\n",
      "2005-01-03  5.45\n",
      "2005-01-04  5.45\n",
      "2005-01-05  5.45\n"
     ]
    }
   ],
   "source": [
    "\n",
    "\n",
    "# Drop the 'Water Year', 'Month', and 'Day' columns\n",
    "bigdata.drop(columns=['Water Year', 'month', 'day','year'], inplace=True)\n",
    "\n",
    "# Set the 'date' column as the index\n",
    "bigdata.set_index('date', inplace=True)\n",
    "\n",
    "print(bigdata.head())"
   ]
  },
  {
   "cell_type": "code",
   "execution_count": 7,
   "id": "e6ed6abb",
   "metadata": {},
   "outputs": [
    {
     "data": {
      "text/plain": [
       "Text(0.5, 1.0, 'SWE')"
      ]
     },
     "execution_count": 7,
     "metadata": {},
     "output_type": "execute_result"
    },
    {
     "data": {
      "image/png": "[encoded data removed]",
      "text/plain": [
       "<Figure size 640x480 with 1 Axes>"
      ]
     },
     "metadata": {},
     "output_type": "display_data"
    }
   ],
   "source": [
    "fig, ax = plt.subplots()\n",
    "bigdata.sort_index(inplace=True)\n",
    "ax.plot(bigdata['Snow'],  # x = dataframe index (date), y = precip in mm\n",
    "        'b-', label ='SWE') \n",
    "ax.set_ylabel('SWE (in)') \n",
    "ax.set_title(fig_title)\n"
   ]
  },
  {
   "cell_type": "markdown",
   "id": "eaeb2bb3",
   "metadata": {},
   "source": [
    "plan analysis "
   ]
  },
  {
   "cell_type": "markdown",
   "id": "c42f95c3",
   "metadata": {},
   "source": [
    "### Discussion \n",
    "Hoping to see that peak SWE timing is changing in one way or another, either later or earlier each year. Can talk about what this means for water budget and how snow dependant areas will be affected? "
   ]
  }
 ],
 "metadata": {
  "kernelspec": {
   "display_name": "Python 3 (ipykernel)",
   "language": "python",
   "name": "python3"
  },
  "language_info": {
   "codemirror_mode": {
    "name": "ipython",
    "version": 3
   },
   "file_extension": ".py",
   "mimetype": "text/x-python",
   "name": "python",
   "nbconvert_exporter": "python",
   "pygments_lexer": "ipython3",
   "version": "3.9.13"
  }
 },
 "nbformat": 4,
 "nbformat_minor": 5
}
